{
  "nbformat": 4,
  "nbformat_minor": 0,
  "metadata": {
    "colab": {
      "name": "review_prediction.ipynb",
      "provenance": [],
      "collapsed_sections": []
    },
    "kernelspec": {
      "name": "python3",
      "display_name": "Python 3"
    },
    "language_info": {
      "name": "python"
    }
  },
  "cells": [
    {
      "cell_type": "code",
      "metadata": {
        "id": "C-IaHC3ftHqJ"
      },
      "source": [
        "import pandas as pd\n",
        "import numpy as np"
      ],
      "execution_count": 1,
      "outputs": []
    },
    {
      "cell_type": "code",
      "metadata": {
        "colab": {
          "base_uri": "https://localhost:8080/",
          "height": 555
        },
        "id": "JZVwbnmBuy69",
        "outputId": "0f2d8df9-c58d-4888-c67f-f224d4f43d57"
      },
      "source": [
        "data=pd.read_csv(\"/content/Train_Data.csv\")\n",
        "data.head()"
      ],
      "execution_count": 2,
      "outputs": [
        {
          "output_type": "execute_result",
          "data": {
            "text/html": [
              "<div>\n",
              "<style scoped>\n",
              "    .dataframe tbody tr th:only-of-type {\n",
              "        vertical-align: middle;\n",
              "    }\n",
              "\n",
              "    .dataframe tbody tr th {\n",
              "        vertical-align: top;\n",
              "    }\n",
              "\n",
              "    .dataframe thead th {\n",
              "        text-align: right;\n",
              "    }\n",
              "</style>\n",
              "<table border=\"1\" class=\"dataframe\">\n",
              "  <thead>\n",
              "    <tr style=\"text-align: right;\">\n",
              "      <th></th>\n",
              "      <th>uniq_id</th>\n",
              "      <th>product_name</th>\n",
              "      <th>manufacturer</th>\n",
              "      <th>price</th>\n",
              "      <th>number_available_in_stock</th>\n",
              "      <th>number_of_reviews</th>\n",
              "      <th>number_of_answered_questions</th>\n",
              "      <th>amazon_category_and_sub_category</th>\n",
              "      <th>customers_who_bought_this_item_also_bought</th>\n",
              "      <th>description</th>\n",
              "      <th>product_information</th>\n",
              "      <th>product_description</th>\n",
              "      <th>items_customers_buy_after_viewing_this_item</th>\n",
              "      <th>customer_questions_and_answers</th>\n",
              "      <th>customer_reviews</th>\n",
              "      <th>sellers</th>\n",
              "      <th>average_review_rating</th>\n",
              "    </tr>\n",
              "  </thead>\n",
              "  <tbody>\n",
              "    <tr>\n",
              "      <th>0</th>\n",
              "      <td>7f890f73298badd692c39c3801ef1d28</td>\n",
              "      <td>Batman - Role Play - Cowl and Batarang</td>\n",
              "      <td>Mattel</td>\n",
              "      <td>£14.99</td>\n",
              "      <td>NaN</td>\n",
              "      <td>4</td>\n",
              "      <td>1.0</td>\n",
              "      <td>Figures &amp; Playsets &gt; Science Fiction &amp; Fantasy</td>\n",
              "      <td>http://www.amazon.co.uk/Rubies-Costume-Co-Flas...</td>\n",
              "      <td>When kids aspire to be like Batman, it's easy ...</td>\n",
              "      <td>Technical Details Item Weight113 g Product Dim...</td>\n",
              "      <td>When kids aspire to be like Batman, it's easy ...</td>\n",
              "      <td>http://www.amazon.co.uk/Rubies-Costume-Co-Flas...</td>\n",
              "      <td>NaN</td>\n",
              "      <td>Item was broken // 3.0 // 2 April 2014 // By\\n...</td>\n",
              "      <td>{\"seller\"=&gt;{\"Seller_name_1\"=&gt;\"a1 Toys\", \"Selle...</td>\n",
              "      <td>4.5</td>\n",
              "    </tr>\n",
              "    <tr>\n",
              "      <th>1</th>\n",
              "      <td>83e55a2edb6c13dfc1c46d1577321b2e</td>\n",
              "      <td>Doctor Who 12-inch 50th Anniversary Collector ...</td>\n",
              "      <td>Dr Who</td>\n",
              "      <td>NaN</td>\n",
              "      <td>3 new</td>\n",
              "      <td>73</td>\n",
              "      <td>NaN</td>\n",
              "      <td>Figures &amp; Playsets &gt; Science Fiction &amp; Fantasy</td>\n",
              "      <td>http://www.amazon.co.uk/Doctor-Who-Classic-Dal...</td>\n",
              "      <td>Product Description This ultimate Doctor Who c...</td>\n",
              "      <td>Technical Details Item Weight1.4 Kg Product Di...</td>\n",
              "      <td>Product Description This ultimate Doctor Who c...</td>\n",
              "      <td>http://www.amazon.co.uk/Dr-Who-Dalek-Projectio...</td>\n",
              "      <td>NaN</td>\n",
              "      <td>A wonderful collectors piece // 5.0 // 31 Aug....</td>\n",
              "      <td>NaN</td>\n",
              "      <td>4.6</td>\n",
              "    </tr>\n",
              "    <tr>\n",
              "      <th>2</th>\n",
              "      <td>4bfaaf6558582a0f337ad59fcd51fcf7</td>\n",
              "      <td>Melissa &amp; Doug Sticker Collection - Pink</td>\n",
              "      <td>Melissa &amp; Doug</td>\n",
              "      <td>£4.76</td>\n",
              "      <td>15 new</td>\n",
              "      <td>47</td>\n",
              "      <td>1.0</td>\n",
              "      <td>Arts &amp; Crafts &gt; Paper &amp; Stickers</td>\n",
              "      <td>http://www.amazon.co.uk/Melissa-Doug-Sticker-C...</td>\n",
              "      <td>Product Description Cute couture, adorable ani...</td>\n",
              "      <td>Technical Details Item Weight299 g Product Dim...</td>\n",
              "      <td>Product Description Cute couture, adorable ani...</td>\n",
              "      <td>http://www.amazon.co.uk/Melissa-Doug-Habitats-...</td>\n",
              "      <td>NaN</td>\n",
              "      <td>Great sticker collection // 5.0 // 19 Jun. 201...</td>\n",
              "      <td>NaN</td>\n",
              "      <td>4.7</td>\n",
              "    </tr>\n",
              "    <tr>\n",
              "      <th>3</th>\n",
              "      <td>4e6702cb7fe9278f16dedc39a8808c72</td>\n",
              "      <td>Rock and Roll Cards, 30 Team</td>\n",
              "      <td>ClubKing Ltd</td>\n",
              "      <td>£4.49</td>\n",
              "      <td>2 new</td>\n",
              "      <td>2</td>\n",
              "      <td>1.0</td>\n",
              "      <td>Hobbies &gt; Trading Cards &amp; Accessories &gt; Packs ...</td>\n",
              "      <td>http://www.amazon.co.uk/ClubKing-Ltd-Football-...</td>\n",
              "      <td>1 Pack of 25 Football Cards, 30 rockstars on e...</td>\n",
              "      <td>Technical Details Item Weight100 g Product Dim...</td>\n",
              "      <td>1 Pack of 25 Football Cards, 30 rockstars on e...</td>\n",
              "      <td>http://www.amazon.co.uk/ClubKing-Ltd-Football-...</td>\n",
              "      <td>how many cards in a pack it dosn't say..?? // ...</td>\n",
              "      <td>Rock and roll cards // 5.0 // 28 July 2013 // ...</td>\n",
              "      <td>{\"seller\"=&gt;[{\"Seller_name_1\"=&gt;\"ClubKing Ltd\", ...</td>\n",
              "      <td>5.0</td>\n",
              "    </tr>\n",
              "    <tr>\n",
              "      <th>4</th>\n",
              "      <td>f505611d18b0ae98258896ae1b0f14c8</td>\n",
              "      <td>Crayola 16 Pipsqueak Glitter Glues</td>\n",
              "      <td>Crayola</td>\n",
              "      <td>£5.99</td>\n",
              "      <td>9 new</td>\n",
              "      <td>10</td>\n",
              "      <td>1.0</td>\n",
              "      <td>Characters &amp; Brands &gt; Crayola</td>\n",
              "      <td>http://www.amazon.co.uk/Crayola-3-3542-9-Glitt...</td>\n",
              "      <td>Product Description 16 Pipsqueak washable glit...</td>\n",
              "      <td>Technical Details Item Weight186 g Product Dim...</td>\n",
              "      <td>Product Description 16 Pipsqueak washable glit...</td>\n",
              "      <td>http://www.amazon.co.uk/Crayola-3-3542-9-Glitt...</td>\n",
              "      <td>NaN</td>\n",
              "      <td>Little fingers big imagination // 5.0 // 4 Mar...</td>\n",
              "      <td>{\"seller\"=&gt;[{\"Seller_name_1\"=&gt;\"BIC WAREHOUSE\",...</td>\n",
              "      <td>4.2</td>\n",
              "    </tr>\n",
              "  </tbody>\n",
              "</table>\n",
              "</div>"
            ],
            "text/plain": [
              "                            uniq_id  ... average_review_rating\n",
              "0  7f890f73298badd692c39c3801ef1d28  ...                   4.5\n",
              "1  83e55a2edb6c13dfc1c46d1577321b2e  ...                   4.6\n",
              "2  4bfaaf6558582a0f337ad59fcd51fcf7  ...                   4.7\n",
              "3  4e6702cb7fe9278f16dedc39a8808c72  ...                   5.0\n",
              "4  f505611d18b0ae98258896ae1b0f14c8  ...                   4.2\n",
              "\n",
              "[5 rows x 17 columns]"
            ]
          },
          "metadata": {
            "tags": []
          },
          "execution_count": 2
        }
      ]
    },
    {
      "cell_type": "code",
      "metadata": {
        "colab": {
          "base_uri": "https://localhost:8080/"
        },
        "id": "LDPmtMMSu6FJ",
        "outputId": "382d2b0f-53f6-421e-97e3-434d21f0a63e"
      },
      "source": [
        "data.dtypes"
      ],
      "execution_count": 3,
      "outputs": [
        {
          "output_type": "execute_result",
          "data": {
            "text/plain": [
              "uniq_id                                         object\n",
              "product_name                                    object\n",
              "manufacturer                                    object\n",
              "price                                           object\n",
              "number_available_in_stock                       object\n",
              "number_of_reviews                               object\n",
              "number_of_answered_questions                   float64\n",
              "amazon_category_and_sub_category                object\n",
              "customers_who_bought_this_item_also_bought      object\n",
              "description                                     object\n",
              "product_information                             object\n",
              "product_description                             object\n",
              "items_customers_buy_after_viewing_this_item     object\n",
              "customer_questions_and_answers                  object\n",
              "customer_reviews                                object\n",
              "sellers                                         object\n",
              "average_review_rating                          float64\n",
              "dtype: object"
            ]
          },
          "metadata": {
            "tags": []
          },
          "execution_count": 3
        }
      ]
    },
    {
      "cell_type": "code",
      "metadata": {
        "colab": {
          "base_uri": "https://localhost:8080/",
          "height": 437
        },
        "id": "5jIYznjRu9py",
        "outputId": "ce5b6d6d-dc0e-4546-ccb5-5ca4e230900b"
      },
      "source": [
        "import seaborn as sns\n",
        "sns.heatmap(data.corr())"
      ],
      "execution_count": 4,
      "outputs": [
        {
          "output_type": "execute_result",
          "data": {
            "text/plain": [
              "<matplotlib.axes._subplots.AxesSubplot at 0x7f3a536f4510>"
            ]
          },
          "metadata": {
            "tags": []
          },
          "execution_count": 4
        },
        {
          "output_type": "display_data",
          "data": {
            "image/png": "[encoded data removed]",
            "text/plain": [
              "<Figure size 432x288 with 2 Axes>"
            ]
          },
          "metadata": {
            "tags": [],
            "needs_background": "light"
          }
        }
      ]
    },
    {
      "cell_type": "code",
      "metadata": {
        "id": "csTcEyPMvBQu"
      },
      "source": [
        "#drop columns which are not required to predict average_review_ratings\n",
        "data=data.drop([\"uniq_id\",\"product_name\",\"manufacturer\",'number_available_in_stock',\n",
        "       'number_of_answered_questions', 'amazon_category_and_sub_category',\n",
        "       'customers_who_bought_this_item_also_bought', 'description',\n",
        "       'product_information', 'product_description',\n",
        "       'items_customers_buy_after_viewing_this_item',\n",
        "       'customer_questions_and_answers',\"sellers\",\"price\",\"number_of_reviews\"],axis=1)"
      ],
      "execution_count": 5,
      "outputs": []
    },
    {
      "cell_type": "code",
      "metadata": {
        "colab": {
          "base_uri": "https://localhost:8080/",
          "height": 202
        },
        "id": "bN6-hRfNvFtP",
        "outputId": "401b7962-59ba-4fa7-a7f8-616afd6c234d"
      },
      "source": [
        "data.tail()"
      ],
      "execution_count": 6,
      "outputs": [
        {
          "output_type": "execute_result",
          "data": {
            "text/html": [
              "<div>\n",
              "<style scoped>\n",
              "    .dataframe tbody tr th:only-of-type {\n",
              "        vertical-align: middle;\n",
              "    }\n",
              "\n",
              "    .dataframe tbody tr th {\n",
              "        vertical-align: top;\n",
              "    }\n",
              "\n",
              "    .dataframe thead th {\n",
              "        text-align: right;\n",
              "    }\n",
              "</style>\n",
              "<table border=\"1\" class=\"dataframe\">\n",
              "  <thead>\n",
              "    <tr style=\"text-align: right;\">\n",
              "      <th></th>\n",
              "      <th>customer_reviews</th>\n",
              "      <th>average_review_rating</th>\n",
              "    </tr>\n",
              "  </thead>\n",
              "  <tbody>\n",
              "    <tr>\n",
              "      <th>7481</th>\n",
              "      <td>Oxford 1/76 Devon &amp; Somerset F and R Man Pump ...</td>\n",
              "      <td>4.0</td>\n",
              "    </tr>\n",
              "    <tr>\n",
              "      <th>7482</th>\n",
              "      <td>High quality product, Exceeded expectations //...</td>\n",
              "      <td>5.0</td>\n",
              "    </tr>\n",
              "    <tr>\n",
              "      <th>7483</th>\n",
              "      <td>The kids love it // 5.0 // 23 Feb. 2014 // By\\...</td>\n",
              "      <td>4.8</td>\n",
              "    </tr>\n",
              "    <tr>\n",
              "      <th>7484</th>\n",
              "      <td>fun, educational // 4.0 // 14 Jan. 2013 // By\\...</td>\n",
              "      <td>4.0</td>\n",
              "    </tr>\n",
              "    <tr>\n",
              "      <th>7485</th>\n",
              "      <td>Well well.. // 5.0 // 6 July 2015 // By\\n    \\...</td>\n",
              "      <td>5.0</td>\n",
              "    </tr>\n",
              "  </tbody>\n",
              "</table>\n",
              "</div>"
            ],
            "text/plain": [
              "                                       customer_reviews  average_review_rating\n",
              "7481  Oxford 1/76 Devon & Somerset F and R Man Pump ...                    4.0\n",
              "7482  High quality product, Exceeded expectations //...                    5.0\n",
              "7483  The kids love it // 5.0 // 23 Feb. 2014 // By\\...                    4.8\n",
              "7484  fun, educational // 4.0 // 14 Jan. 2013 // By\\...                    4.0\n",
              "7485  Well well.. // 5.0 // 6 July 2015 // By\\n    \\...                    5.0"
            ]
          },
          "metadata": {
            "tags": []
          },
          "execution_count": 6
        }
      ]
    },
    {
      "cell_type": "code",
      "metadata": {
        "colab": {
          "base_uri": "https://localhost:8080/"
        },
        "id": "ayv8aYm4vJCK",
        "outputId": "a962a09e-7fd1-4d63-ef60-802af6a06d1f"
      },
      "source": [
        "data.isnull().sum()"
      ],
      "execution_count": 7,
      "outputs": [
        {
          "output_type": "execute_result",
          "data": {
            "text/plain": [
              "customer_reviews         3\n",
              "average_review_rating    0\n",
              "dtype: int64"
            ]
          },
          "metadata": {
            "tags": []
          },
          "execution_count": 7
        }
      ]
    },
    {
      "cell_type": "code",
      "metadata": {
        "id": "9GnU5R1yvPO9"
      },
      "source": [
        "data.dropna(subset=[\"customer_reviews\"],inplace=True)"
      ],
      "execution_count": 8,
      "outputs": []
    },
    {
      "cell_type": "code",
      "metadata": {
        "colab": {
          "base_uri": "https://localhost:8080/"
        },
        "id": "TR9JqzR2vRu8",
        "outputId": "459a9f8a-a59a-47d8-f250-4f7575335ec0"
      },
      "source": [
        "data.isnull().sum()"
      ],
      "execution_count": 9,
      "outputs": [
        {
          "output_type": "execute_result",
          "data": {
            "text/plain": [
              "customer_reviews         0\n",
              "average_review_rating    0\n",
              "dtype: int64"
            ]
          },
          "metadata": {
            "tags": []
          },
          "execution_count": 9
        }
      ]
    },
    {
      "cell_type": "code",
      "metadata": {
        "id": "lPbWjIA4vUTn"
      },
      "source": [
        "#separating independent and dependent variables\n",
        "x=data.drop(\"average_review_rating\",axis=1)\n",
        "y=data[\"average_review_rating\"]"
      ],
      "execution_count": 10,
      "outputs": []
    },
    {
      "cell_type": "code",
      "metadata": {
        "id": "PfTfynhNvXGe"
      },
      "source": [
        "import nltk\n",
        "import re\n",
        "from nltk.corpus import stopwords"
      ],
      "execution_count": 11,
      "outputs": []
    },
    {
      "cell_type": "code",
      "metadata": {
        "colab": {
          "base_uri": "https://localhost:8080/",
          "height": 160
        },
        "id": "L5YLv_IUvZ9O",
        "outputId": "59419010-1338-4bb6-8f01-adb6a841ac53"
      },
      "source": [
        "x[\"customer_reviews\"][1]"
      ],
      "execution_count": 12,
      "outputs": [
        {
          "output_type": "execute_result",
          "data": {
            "application/vnd.google.colaboratory.intrinsic+json": {
              "type": "string"
            },
            "text/plain": [
              "'A wonderful collectors piece // 5.0 // 31 Aug. 2013 // By\\n    \\n    SteveINtheUKok\\n  \\nTOP 1000 REVIEWER on 31 Aug. 2013 // This is more a collectors item, than a toy.It arrives in a fairly standard Doctor Who box, albeit quite large.Its packed very well indeed you\\'ll need a small screwdriver and some patience to remove it from its protective box. I prefer this way than rattling around getting broken.You\\'ll also need to feed it 4xAA batteries as they are not included.There is a little assembly required, putting the eye stalk on wasn\\'t the easiest task, don\\'t force it! Once you realise its keyed, think of the keystone of a bridge or window and turn it sideways, it has a long edge on the right, a shorter edge on the left and then draw two lines top and bottom at an angle so they meet up, once you notice that putting the stalk on is much easier, if it fails to light, like mine did, gently push in the springy contacts under the stalk a few times to loosen them after transit and it should light fine.All that was left to do was pop on the plunger and the ray gun, plunger to the left, ray gun to the right (with the ray gun the longer end goes into the hole not the shorter)It was actually quite easy to put together. I saved the bottom retaining plastic cups and screws and put them back on, as this lets it sit flat on a shelf and raises the wheels up a touch, you can\\'t tell as this all happens under the Daleks black skirt (ooh err!) but keeps it from rolling off on its own to explore the universe (you know what theyre like! LOL)There are 8 recorded dalek phrases, all in high quality, the head lights (what do you call them?) flash white when it speaks and when turned on the blue led in the eye stalk glows for up to 30 mins at a time.You activate the sound by pressing one of the bumps on the dalek at the front.Read more › | Stunning. // 5.0 // 5 Sept. 2013 // By\\n    \\n    Mr. J. Gilder\\n  \\n on 5 Sept. 2013 // A very collectable Dalek that now forms the centrepiece of my collection. Unique model and a must for collectors. Brilliant. | A great novelty figure to celebrate the greatest show on Earth! // 5.0 // 20 Aug. 2013 // By\\n    \\n    Jared\\n  \\n on 20 Aug. 2013 // Exactly as I expected and super fast delivery with Prime, this Union Jack Dalek is the perfect way to remember what will be one of the show\\'s biggest years. It\\'s much larger than I imagined and highly detailed with accurate paint application. A few nicks here and there on the paint job but apart from that fine. Requires 4 AA batteries which aren\\'t included to power the lights and sounds - there\\'s 8 Dalek catch phrases it can play.It features moving gun arm and sucker as well as eye stalk and head. Also, to my surprise, you can also twist the middle section too allowing for it to be put into many different poses for display. It also has wheels on the bottom for if you wanted it to be more of a toy - but it\\'s cool enough to look great on a shelf! Perfect for any WHO fan! A reminder than the greatest show on Earth is BRITISH! This Dalek is a true British icon and you\\'ll love it!This figure is described as \\'push along\\', it is NOT remote control. Also, by \"limited edition\" they mean these will only be sold this year, there isn\\'t a limited amount of stock. | Husbands Christmas Pressie // 4.0 // 9 Jan. 2014 // By\\n    \\n    Suzanne Greenhill\\n  \\n on 9 Jan. 2014 // I bought this for my husband to add to his collection of daleks.  The only down side is the fact it does not move like the other remote controlled daleks he has, although it does speak.  However he loved the fact it was a special edition for 2013. | Very good! But.... // 4.0 // 6 Oct. 2013 // By\\n    \\n    Sam\\n  \\n on 6 Oct. 2013 // Overall, this product is a must have for any serious Doctor Who collector, it\\'s priced roughly the same price as an r/c Dalek but this doesn\\'t have that feature. The Dalek itself is pretty much the same size as the older style R/C Daleks and has the mid section that can rotate. Because this Dalek has no R/C function it is very much lighter than the other types out there. The speech is spot on and the lights are always fun to see going off. Unfortunately I wanted to give the product 5 stars but their are a couple of points I wanted to point out. The Union Jack design looks fantastic on the front however only on the front is it show, for me personally it would\\'ve been a bigger incentive to have the design going all the way to the back making it complete instead of it just cutting off suddenly. The biggest but however as to be the packaging - I trade on ebay and know how important it is to securely pack items but this product goes over the top with secure packing. EVERYTHING is either bolted down with nails which are difficult to get out especially since a black cover has been placed over the top of the nails. OR been locked with the plastic twists and then at least 3 layers of sellotape stuck over them. So be prepared for that long thin screwdrivers, scissors and a lot of patience is required to get this Dalek out of the box.Overall, this product is a very good purchase but as they say, nothing\\'s perfect, just the \\'half finished\\' flag and unpacking let this down slightly. | Cool Dalek, annoying packaging // 5.0 // 8 Jan. 2014 // By\\n    \\n    Brother Mart\\n  \\n on 8 Jan. 2014 // The Dalek looks and sounds great - it\\'s a worthy 50th Anniversay collector\\'s piece.The one caveat I have concerns the excessive  packaging, which is fiddly to remove, as others have detailed.Most annoying is the fact that it requires the use of a tiny screwdriver in order to remove the Dalek from its base. If you don\\'t have one to hand, you\\'re snookered.While the plunger and weapon arm are easy to attach, the eye stalk is not so straight-forward. It took several attempts to get the electircal contacts aligned correctly so the eye could attach. Why it wasn\\'t pre-attached is beyond me, it should have beenTo access the battery compartment requires further use of a very small screwdriver. The Dalek requires four AA batteries (which are not included or even mentioned on the outer box) in order to power the speech and light functions. There is also a separete on/off switch on the base that needs setting to the correct position if these functions are to work.If you\\'re buying the Dalek as a present for a child make sure you also buy batteries and have a small screwdriver to hand - I used the one I got from the opticians to tighten my glesses.Once it\\'s out of the packaging, assembled and powered-up, the Dalek looks and sounds great, but it is undoubtedly somewhat of a hassle getting to this point.Dalek 5 out of 5Packaging 0 out of 5'"
            ]
          },
          "metadata": {
            "tags": []
          },
          "execution_count": 12
        }
      ]
    },
    {
      "cell_type": "code",
      "metadata": {
        "colab": {
          "base_uri": "https://localhost:8080/",
          "height": 202
        },
        "id": "VWjOEykAvgWw",
        "outputId": "63a81b2b-28e6-49f6-9757-839cf7210b6f"
      },
      "source": [
        "x.head()"
      ],
      "execution_count": 13,
      "outputs": [
        {
          "output_type": "execute_result",
          "data": {
            "text/html": [
              "<div>\n",
              "<style scoped>\n",
              "    .dataframe tbody tr th:only-of-type {\n",
              "        vertical-align: middle;\n",
              "    }\n",
              "\n",
              "    .dataframe tbody tr th {\n",
              "        vertical-align: top;\n",
              "    }\n",
              "\n",
              "    .dataframe thead th {\n",
              "        text-align: right;\n",
              "    }\n",
              "</style>\n",
              "<table border=\"1\" class=\"dataframe\">\n",
              "  <thead>\n",
              "    <tr style=\"text-align: right;\">\n",
              "      <th></th>\n",
              "      <th>customer_reviews</th>\n",
              "    </tr>\n",
              "  </thead>\n",
              "  <tbody>\n",
              "    <tr>\n",
              "      <th>0</th>\n",
              "      <td>Item was broken // 3.0 // 2 April 2014 // By\\n...</td>\n",
              "    </tr>\n",
              "    <tr>\n",
              "      <th>1</th>\n",
              "      <td>A wonderful collectors piece // 5.0 // 31 Aug....</td>\n",
              "    </tr>\n",
              "    <tr>\n",
              "      <th>2</th>\n",
              "      <td>Great sticker collection // 5.0 // 19 Jun. 201...</td>\n",
              "    </tr>\n",
              "    <tr>\n",
              "      <th>3</th>\n",
              "      <td>Rock and roll cards // 5.0 // 28 July 2013 // ...</td>\n",
              "    </tr>\n",
              "    <tr>\n",
              "      <th>4</th>\n",
              "      <td>Little fingers big imagination // 5.0 // 4 Mar...</td>\n",
              "    </tr>\n",
              "  </tbody>\n",
              "</table>\n",
              "</div>"
            ],
            "text/plain": [
              "                                    customer_reviews\n",
              "0  Item was broken // 3.0 // 2 April 2014 // By\\n...\n",
              "1  A wonderful collectors piece // 5.0 // 31 Aug....\n",
              "2  Great sticker collection // 5.0 // 19 Jun. 201...\n",
              "3  Rock and roll cards // 5.0 // 28 July 2013 // ...\n",
              "4  Little fingers big imagination // 5.0 // 4 Mar..."
            ]
          },
          "metadata": {
            "tags": []
          },
          "execution_count": 13
        }
      ]
    },
    {
      "cell_type": "code",
      "metadata": {
        "colab": {
          "base_uri": "https://localhost:8080/"
        },
        "id": "JpcxHBVWvhIO",
        "outputId": "e4983682-b1b0-4c91-d50e-40946f943228"
      },
      "source": [
        "customer_reviews=x[\"customer_reviews\"].copy()\n",
        "len(customer_reviews)"
      ],
      "execution_count": 14,
      "outputs": [
        {
          "output_type": "execute_result",
          "data": {
            "text/plain": [
              "7483"
            ]
          },
          "metadata": {
            "tags": []
          },
          "execution_count": 14
        }
      ]
    },
    {
      "cell_type": "code",
      "metadata": {
        "colab": {
          "base_uri": "https://localhost:8080/",
          "height": 71
        },
        "id": "Sq9ih1-NvlMG",
        "outputId": "32aed09f-3bbf-4d9d-be49-4fe3ae68b65f"
      },
      "source": [
        "customer_reviews[3]"
      ],
      "execution_count": 15,
      "outputs": [
        {
          "output_type": "execute_result",
          "data": {
            "application/vnd.google.colaboratory.intrinsic+json": {
              "type": "string"
            },
            "text/plain": [
              "'Rock and roll cards // 5.0 // 28 July 2013 // By\\n    \\n    Tricia M\\n  \\n on 28 July 2013 // this were awesome fundraising with a kick sold quick for clic sargent as everyone was interested in music rather than just a football card | cards // 5.0 // 10 Mar. 2013 // By\\n    \\n    Betti\\n  \\n on 10 Mar. 2013 // chosen to raise funds for charity and found them to be popular with the group as a change from football cards'"
            ]
          },
          "metadata": {
            "tags": []
          },
          "execution_count": 15
        }
      ]
    },
    {
      "cell_type": "code",
      "metadata": {
        "id": "lYXFy4w_vnch"
      },
      "source": [
        "from sklearn.feature_extraction.text import CountVectorizer"
      ],
      "execution_count": 16,
      "outputs": []
    },
    {
      "cell_type": "code",
      "metadata": {
        "id": "9lQKu5XVvqex"
      },
      "source": [
        "## implement BAG OF WORDS\n",
        "countvector=CountVectorizer(ngram_range=(2,2))\n",
        "X=countvector.fit_transform(customer_reviews)"
      ],
      "execution_count": 17,
      "outputs": []
    },
    {
      "cell_type": "code",
      "metadata": {
        "colab": {
          "base_uri": "https://localhost:8080/"
        },
        "id": "SMLdQ9gnvtUg",
        "outputId": "0cf77bbb-bb0c-4c1d-b2d3-151ab196c19d"
      },
      "source": [
        "X"
      ],
      "execution_count": 18,
      "outputs": [
        {
          "output_type": "execute_result",
          "data": {
            "text/plain": [
              "<7483x305100 sparse matrix of type '<class 'numpy.int64'>'\n",
              "\twith 967454 stored elements in Compressed Sparse Row format>"
            ]
          },
          "metadata": {
            "tags": []
          },
          "execution_count": 18
        }
      ]
    },
    {
      "cell_type": "code",
      "metadata": {
        "id": "CfozW14Wv1w6"
      },
      "source": [
        "from sklearn.model_selection import train_test_split"
      ],
      "execution_count": 19,
      "outputs": []
    },
    {
      "cell_type": "code",
      "metadata": {
        "id": "KO7l6qW3v4Sa"
      },
      "source": [
        "X_train,X_test,y_train,y_test=train_test_split(X,y,test_size=0.2,random_state=42)"
      ],
      "execution_count": 20,
      "outputs": []
    },
    {
      "cell_type": "code",
      "metadata": {
        "id": "ZOS3gvw2v6fT"
      },
      "source": [
        "from sklearn.model_selection import cross_val_score\n",
        "from sklearn.model_selection import KFold\n",
        "from sklearn.pipeline import Pipeline"
      ],
      "execution_count": 21,
      "outputs": []
    },
    {
      "cell_type": "code",
      "metadata": {
        "id": "ay_oODIUv9wI"
      },
      "source": [
        "from sklearn.linear_model import LinearRegression\n",
        "from sklearn.linear_model import Lasso\n",
        "from sklearn.linear_model import ElasticNet\n",
        "from sklearn.tree import DecisionTreeRegressor\n",
        "from sklearn.neighbors import KNeighborsRegressor\n",
        "from sklearn.ensemble import GradientBoostingRegressor"
      ],
      "execution_count": 22,
      "outputs": []
    },
    {
      "cell_type": "code",
      "metadata": {
        "colab": {
          "base_uri": "https://localhost:8080/"
        },
        "id": "DZMlkx_awBel",
        "outputId": "456eebba-4769-479f-98c2-dd32bdcc7032"
      },
      "source": [
        "pipelines = []\n",
        "pipelines.append(('LinearRegression', Pipeline([('LR',LinearRegression())])))\n",
        "pipelines.append(('LassoRegression', Pipeline([('LASSO', Lasso())])))\n",
        "pipelines.append(('Elasticnet', Pipeline([('EN', ElasticNet())])))\n",
        "pipelines.append(('KNN', Pipeline([('KNN', KNeighborsRegressor())])))\n",
        "pipelines.append(('DecisionTree', Pipeline([('DTR', DecisionTreeRegressor())])))\n",
        "pipelines.append(('GradientBoosting', Pipeline([('GB', GradientBoostingRegressor())])))\n",
        "\n",
        "results = []\n",
        "names = []\n",
        "for name, model in pipelines:\n",
        "    kfold = KFold(n_splits=5)\n",
        "    cv_results = cross_val_score(model, X_train, y_train, cv=kfold, scoring='neg_mean_squared_error')\n",
        "    results.append(cv_results)\n",
        "    names.append(name)\n",
        "    msg = \"%s: %f (%f)\" % (name, cv_results.mean(), cv_results.std())\n",
        "    print(msg)"
      ],
      "execution_count": 23,
      "outputs": [
        {
          "output_type": "stream",
          "text": [
            "LinearRegression: -0.160653 (0.006338)\n",
            "LassoRegression: -0.137760 (0.006041)\n",
            "Elasticnet: -0.137760 (0.006041)\n",
            "KNN: -0.181420 (0.007559)\n",
            "DecisionTree: -0.155084 (0.007275)\n",
            "GradientBoosting: -0.092364 (0.004243)\n"
          ],
          "name": "stdout"
        }
      ]
    },
    {
      "cell_type": "markdown",
      "metadata": {
        "id": "h7dcWLa5wd7R"
      },
      "source": [
        "From the output above, it looks like the Gradient Boosting Regressor performs the best on the data. From this point onward, I will build the regression algorithm using the Gradient Boosting Regressor. The GBM will be tested with a few n_estimators using the GridSearchCV function.\n",
        "But its takes longer time and my system is not able to take this task so go for linear regression model."
      ]
    },
    {
      "cell_type": "code",
      "metadata": {
        "id": "29N_FACAyuNh"
      },
      "source": [
        "#from sklearn.model_selection import GridSearchCV\n",
        "\n",
        "#param_grid = dict(n_estimators=np.array([50,100,200]))\n",
        "#model = GradientBoostingRegressor()\n",
        "#kfold = KFold(n_splits=5)\n",
        "#grid = GridSearchCV(estimator=model, param_grid=param_grid, scoring='neg_mean_squared_error', cv=kfold)\n",
        "#grid_result = grid.fit(X_train, y_train)\n",
        "\n",
        "#means = grid_result.cv_results_['mean_test_score']\n",
        "#stds = grid_result.cv_results_['std_test_score']\n",
        "#params = grid_result.cv_results_['params']\n",
        "#for mean, stdev, param in zip(means, stds, params):\n",
        "    #print(\"%f (%f) with: %r\" % (mean, stdev, param))\n",
        "\n",
        "#print(\"Best: %f using %s\" % (grid_result.best_score_, grid_result.best_params_))"
      ],
      "execution_count": 24,
      "outputs": []
    },
    {
      "cell_type": "code",
      "metadata": {
        "colab": {
          "base_uri": "https://localhost:8080/"
        },
        "id": "IT6xdaWHy2Th",
        "outputId": "152a8b1f-f751-49bc-b0a2-66a9c0057a2a"
      },
      "source": [
        "from sklearn.linear_model import LinearRegression\n",
        "lr=LinearRegression()\n",
        "lr.fit(X_train,y_train)"
      ],
      "execution_count": 25,
      "outputs": [
        {
          "output_type": "execute_result",
          "data": {
            "text/plain": [
              "LinearRegression(copy_X=True, fit_intercept=True, n_jobs=None, normalize=False)"
            ]
          },
          "metadata": {
            "tags": []
          },
          "execution_count": 25
        }
      ]
    },
    {
      "cell_type": "code",
      "metadata": {
        "id": "tJ3w5tub7ChZ"
      },
      "source": [
        "prediction=lr.predict(X_test)\n",
        "from sklearn.metrics import mean_squared_error"
      ],
      "execution_count": 27,
      "outputs": []
    },
    {
      "cell_type": "code",
      "metadata": {
        "colab": {
          "base_uri": "https://localhost:8080/"
        },
        "id": "_smcZwH_7Icb",
        "outputId": "b7f62317-4069-4a1e-a0b4-25f4398e0306"
      },
      "source": [
        "rmse=np.sqrt(mean_squared_error(y_test,prediction))\n",
        "print(\"rmse:-\",rmse)"
      ],
      "execution_count": 28,
      "outputs": [
        {
          "output_type": "stream",
          "text": [
            "rmse:- 0.41322188570015617\n"
          ],
          "name": "stdout"
        }
      ]
    },
    {
      "cell_type": "code",
      "metadata": {
        "colab": {
          "base_uri": "https://localhost:8080/",
          "height": 572
        },
        "id": "c9zP1NX_7JNL",
        "outputId": "00ccd8a0-6e7c-4095-e044-c1f054d6a211"
      },
      "source": [
        "test_data=pd.read_csv(\"/content/Test_Data.csv\")\n",
        "test_data.head()"
      ],
      "execution_count": 29,
      "outputs": [
        {
          "output_type": "execute_result",
          "data": {
            "text/html": [
              "<div>\n",
              "<style scoped>\n",
              "    .dataframe tbody tr th:only-of-type {\n",
              "        vertical-align: middle;\n",
              "    }\n",
              "\n",
              "    .dataframe tbody tr th {\n",
              "        vertical-align: top;\n",
              "    }\n",
              "\n",
              "    .dataframe thead th {\n",
              "        text-align: right;\n",
              "    }\n",
              "</style>\n",
              "<table border=\"1\" class=\"dataframe\">\n",
              "  <thead>\n",
              "    <tr style=\"text-align: right;\">\n",
              "      <th></th>\n",
              "      <th>uniq_id</th>\n",
              "      <th>product_name</th>\n",
              "      <th>manufacturer</th>\n",
              "      <th>price</th>\n",
              "      <th>number_available_in_stock</th>\n",
              "      <th>number_of_reviews</th>\n",
              "      <th>number_of_answered_questions</th>\n",
              "      <th>amazon_category_and_sub_category</th>\n",
              "      <th>customers_who_bought_this_item_also_bought</th>\n",
              "      <th>description</th>\n",
              "      <th>product_information</th>\n",
              "      <th>product_description</th>\n",
              "      <th>items_customers_buy_after_viewing_this_item</th>\n",
              "      <th>customer_questions_and_answers</th>\n",
              "      <th>customer_reviews</th>\n",
              "      <th>sellers</th>\n",
              "    </tr>\n",
              "  </thead>\n",
              "  <tbody>\n",
              "    <tr>\n",
              "      <th>0</th>\n",
              "      <td>90093bd02c6d5ce6d6c8f2e2af411fc1</td>\n",
              "      <td>Dolls House Miniature Cats x2</td>\n",
              "      <td>Heidi Ott</td>\n",
              "      <td>£12.00</td>\n",
              "      <td>NaN</td>\n",
              "      <td>1</td>\n",
              "      <td>1.0</td>\n",
              "      <td>Dolls &amp; Accessories &gt; Dolls' House Dolls &amp; Acc...</td>\n",
              "      <td>NaN</td>\n",
              "      <td>A pair of dolls house miniature cats. This 1/1...</td>\n",
              "      <td>Technical Details Item Weight5 g Product Dimen...</td>\n",
              "      <td>A pair of dolls house miniature cats. This 1/1...</td>\n",
              "      <td>NaN</td>\n",
              "      <td>NaN</td>\n",
              "      <td>Dolls house miniatures // 5.0 // 9 Jan. 2013 /...</td>\n",
              "      <td>{\"seller\"=&gt;{\"Seller_name_1\"=&gt;\"1 12 Dollshouses...</td>\n",
              "    </tr>\n",
              "    <tr>\n",
              "      <th>1</th>\n",
              "      <td>8dec13104fd4d1ad3ad5d9ff2af9ca0b</td>\n",
              "      <td>Disney Princess T7561 Tangled Rapunzel's Gondo...</td>\n",
              "      <td>Disney Princess</td>\n",
              "      <td>NaN</td>\n",
              "      <td>5 new</td>\n",
              "      <td>15</td>\n",
              "      <td>4.0</td>\n",
              "      <td>Characters &amp; Brands &gt; Disney &gt; Toys</td>\n",
              "      <td>http://www.amazon.co.uk/Disney-Princess-Y0942-...</td>\n",
              "      <td>Product Description Relive the romantic moment...</td>\n",
              "      <td>Technical Details Item Weight907 g Product Dim...</td>\n",
              "      <td>Product Description Relive the romantic moment...</td>\n",
              "      <td>http://www.amazon.co.uk/Disney-Princess-Y0942-...</td>\n",
              "      <td>NaN</td>\n",
              "      <td>Tangled // 4.0 // 16 May 2011 // By\\n    \\n   ...</td>\n",
              "      <td>{\"seller\"=&gt;[{\"Seller_name_1\"=&gt;\"Anita Mall\", \"S...</td>\n",
              "    </tr>\n",
              "    <tr>\n",
              "      <th>2</th>\n",
              "      <td>0fcde78856668c1563f54650b17620e7</td>\n",
              "      <td>My Pirate Party Music CD</td>\n",
              "      <td>Unknown</td>\n",
              "      <td>£4.99</td>\n",
              "      <td>1 used</td>\n",
              "      <td>6</td>\n",
              "      <td>1.0</td>\n",
              "      <td>Figures &amp; Playsets &gt; Pirates</td>\n",
              "      <td>http://www.amazon.co.uk/Pirate-Pencils-Childre...</td>\n",
              "      <td>Set the atmosphere for your Pirate themed part...</td>\n",
              "      <td>Technical Details Manufacturer recommended age...</td>\n",
              "      <td>Set the atmosphere for your Pirate themed part...</td>\n",
              "      <td>http://www.amazon.co.uk/Jake-And-The-Neverland...</td>\n",
              "      <td>NaN</td>\n",
              "      <td>Okay but that's all // 1.0 // 11 July 2011 // ...</td>\n",
              "      <td>{\"seller\"=&gt;{\"Seller_name_1\"=&gt;\"BuzzBase\", \"Sell...</td>\n",
              "    </tr>\n",
              "    <tr>\n",
              "      <th>3</th>\n",
              "      <td>69a9becbd60381a4eb7cdafe30761ee4</td>\n",
              "      <td>1ST BIRTHDAY BANNER GIRL (BGC HOLOGRAPHIC) 9FT...</td>\n",
              "      <td>Every-occasion-party-supplies</td>\n",
              "      <td>£1.49</td>\n",
              "      <td>5 new</td>\n",
              "      <td>22</td>\n",
              "      <td>1.0</td>\n",
              "      <td>Party Supplies &gt; Banners, Stickers &amp; Confetti ...</td>\n",
              "      <td>http://www.amazon.co.uk/1ST-BIRTHDAY-GIRL-PINK...</td>\n",
              "      <td>12ft long</td>\n",
              "      <td>Technical Details Manufacturer recommended age...</td>\n",
              "      <td>12ft long</td>\n",
              "      <td>http://www.amazon.co.uk/12ft-Foil-Ladybird-Bir...</td>\n",
              "      <td>NaN</td>\n",
              "      <td>Good quality but take down carefully as the fo...</td>\n",
              "      <td>NaN</td>\n",
              "    </tr>\n",
              "    <tr>\n",
              "      <th>4</th>\n",
              "      <td>18bc8b988f43f352b946a253642e1c6e</td>\n",
              "      <td>Beavis and Butt-Head Great Cornholio Bobble Head</td>\n",
              "      <td>Beavis And Butt-Head</td>\n",
              "      <td>£84.43</td>\n",
              "      <td>NaN</td>\n",
              "      <td>1</td>\n",
              "      <td>1.0</td>\n",
              "      <td>Hobbies &gt; Collectible Figures &amp; Memorabilia &gt; ...</td>\n",
              "      <td>NaN</td>\n",
              "      <td>From the Beavis and Butt-Head TV series comes ...</td>\n",
              "      <td>Technical Details Item Weight159 g Product Dim...</td>\n",
              "      <td>From the Beavis and Butt-Head TV series comes ...</td>\n",
              "      <td>NaN</td>\n",
              "      <td>NaN</td>\n",
              "      <td>hilarious // 5.0 // 11 Dec. 2013 // By\\n    \\n...</td>\n",
              "      <td>{\"seller\"=&gt;{\"Seller_name_1\"=&gt;\"M and N Media US...</td>\n",
              "    </tr>\n",
              "  </tbody>\n",
              "</table>\n",
              "</div>"
            ],
            "text/plain": [
              "                            uniq_id  ...                                            sellers\n",
              "0  90093bd02c6d5ce6d6c8f2e2af411fc1  ...  {\"seller\"=>{\"Seller_name_1\"=>\"1 12 Dollshouses...\n",
              "1  8dec13104fd4d1ad3ad5d9ff2af9ca0b  ...  {\"seller\"=>[{\"Seller_name_1\"=>\"Anita Mall\", \"S...\n",
              "2  0fcde78856668c1563f54650b17620e7  ...  {\"seller\"=>{\"Seller_name_1\"=>\"BuzzBase\", \"Sell...\n",
              "3  69a9becbd60381a4eb7cdafe30761ee4  ...                                                NaN\n",
              "4  18bc8b988f43f352b946a253642e1c6e  ...  {\"seller\"=>{\"Seller_name_1\"=>\"M and N Media US...\n",
              "\n",
              "[5 rows x 16 columns]"
            ]
          },
          "metadata": {
            "tags": []
          },
          "execution_count": 29
        }
      ]
    },
    {
      "cell_type": "code",
      "metadata": {
        "id": "dS1Jopqw7X7q"
      },
      "source": [
        "test_data=test_data.drop(['uniq_id', 'product_name', 'manufacturer', 'price',\n",
        "       'number_available_in_stock', 'number_of_reviews',\n",
        "       'number_of_answered_questions', 'amazon_category_and_sub_category',\n",
        "       'customers_who_bought_this_item_also_bought', 'description',\n",
        "       'product_information', 'product_description',\n",
        "       'items_customers_buy_after_viewing_this_item',\n",
        "       'customer_questions_and_answers', 'sellers'],axis=1)"
      ],
      "execution_count": 30,
      "outputs": []
    },
    {
      "cell_type": "code",
      "metadata": {
        "colab": {
          "base_uri": "https://localhost:8080/"
        },
        "id": "0EQCevrs7Y3N",
        "outputId": "87e3bf16-0f62-4661-fd18-5fd49c9c8fd2"
      },
      "source": [
        "test_data.isna().sum()"
      ],
      "execution_count": 31,
      "outputs": [
        {
          "output_type": "execute_result",
          "data": {
            "text/plain": [
              "customer_reviews    0\n",
              "dtype: int64"
            ]
          },
          "metadata": {
            "tags": []
          },
          "execution_count": 31
        }
      ]
    },
    {
      "cell_type": "code",
      "metadata": {
        "id": "i9mNIDW47dLc"
      },
      "source": [
        "# Removing punctuations\n",
        "test_data.replace(\"[^a-zA-Z]\",\" \",regex=True, inplace=True)"
      ],
      "execution_count": 32,
      "outputs": []
    },
    {
      "cell_type": "code",
      "metadata": {
        "colab": {
          "base_uri": "https://localhost:8080/",
          "height": 53
        },
        "id": "2LOEeXMz7gMb",
        "outputId": "4c022c92-f2d7-498b-feb4-49d05ee10d0b"
      },
      "source": [
        "# Convertng  to lower case\n",
        "for j in range(0,len(test_data)):\n",
        "    test_data[\"customer_reviews\"]=test_data[\"customer_reviews\"].str.lower()\n",
        "test_data[\"customer_reviews\"][4]"
      ],
      "execution_count": 34,
      "outputs": [
        {
          "output_type": "execute_result",
          "data": {
            "application/vnd.google.colaboratory.intrinsic+json": {
              "type": "string"
            },
            "text/plain": [
              "'hilarious              dec          by          lauramcv     on    dec          bought as a bit of a gag gift  it s hilarious   bought in march and still going strong in december  although it can sometimes be alittle too sensitive '"
            ]
          },
          "metadata": {
            "tags": []
          },
          "execution_count": 34
        }
      ]
    },
    {
      "cell_type": "code",
      "metadata": {
        "colab": {
          "base_uri": "https://localhost:8080/"
        },
        "id": "oLZfKxFi7i0C",
        "outputId": "e74eabba-697b-4d26-f806-bc9f64e67ba1"
      },
      "source": [
        "test_customer_review=test_data[\"customer_reviews\"].copy()\n",
        "len(test_customer_review)"
      ],
      "execution_count": 35,
      "outputs": [
        {
          "output_type": "execute_result",
          "data": {
            "text/plain": [
              "2496"
            ]
          },
          "metadata": {
            "tags": []
          },
          "execution_count": 35
        }
      ]
    },
    {
      "cell_type": "code",
      "metadata": {
        "id": "sWG7pz_i7kIg"
      },
      "source": [
        "test_data=countvector.transform(test_customer_review)"
      ],
      "execution_count": 36,
      "outputs": []
    },
    {
      "cell_type": "code",
      "metadata": {
        "id": "zTn4ryZM7q5X"
      },
      "source": [
        "pred=lr.predict(test_data)"
      ],
      "execution_count": 37,
      "outputs": []
    },
    {
      "cell_type": "code",
      "metadata": {
        "colab": {
          "base_uri": "https://localhost:8080/"
        },
        "id": "Dvbixnjx7tTy",
        "outputId": "78157409-b467-48c7-ce49-cb31115a6979"
      },
      "source": [
        "prediction=np.round(pred,1)\n",
        "prediction"
      ],
      "execution_count": 38,
      "outputs": [
        {
          "output_type": "execute_result",
          "data": {
            "text/plain": [
              "array([4.9, 3.8, 4.5, ..., 5. , 4.8, 4.9])"
            ]
          },
          "metadata": {
            "tags": []
          },
          "execution_count": 38
        }
      ]
    },
    {
      "cell_type": "code",
      "metadata": {
        "colab": {
          "base_uri": "https://localhost:8080/"
        },
        "id": "VHan4z1e7ylK",
        "outputId": "efedd3e6-3a96-44dc-96a9-ec0602e0759e"
      },
      "source": [
        "test_rating=pd.Series(prediction,name=\"prediction\")\n",
        "test_rating"
      ],
      "execution_count": 39,
      "outputs": [
        {
          "output_type": "execute_result",
          "data": {
            "text/plain": [
              "0       4.9\n",
              "1       3.8\n",
              "2       4.5\n",
              "3       4.7\n",
              "4       4.8\n",
              "       ... \n",
              "2491    4.9\n",
              "2492    4.8\n",
              "2493    5.0\n",
              "2494    4.8\n",
              "2495    4.9\n",
              "Name: prediction, Length: 2496, dtype: float64"
            ]
          },
          "metadata": {
            "tags": []
          },
          "execution_count": 39
        }
      ]
    },
    {
      "cell_type": "code",
      "metadata": {
        "id": "ZxL00ZIA75a4"
      },
      "source": [
        "test_rating.to_csv(\"/content/submission.csv\")"
      ],
      "execution_count": 40,
      "outputs": []
    },
    {
      "cell_type": "code",
      "metadata": {
        "id": "raP5jH45AO7s"
      },
      "source": [
        ""
      ],
      "execution_count": null,
      "outputs": []
    }
  ]
}